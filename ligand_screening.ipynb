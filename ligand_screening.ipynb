{
 "cells": [
  {
   "cell_type": "markdown",
   "metadata": {},
   "source": [
    "## Change the \"na\" in the variable name into anything"
   ]
  },
  {
   "cell_type": "code",
   "execution_count": null,
   "metadata": {},
   "outputs": [],
   "source": [
    "# paste the decoys' binding affinity\n",
    "decoys_na = []\n",
    "\n",
    "# checking the length of the list\n",
    "print(f\"\"\"don't forget to check the total decoys.\n",
    "The total decoys are: {len(decoys_na)}\"\"\")\n",
    "\n",
    "# type the ligand's name\n",
    "ligand_na = input(\"\\nEnter the ligand's name: \")\n",
    "\n",
    "# type the ligand's binding affinity\n",
    "ligand_value_na = float(input(f\"Enter the ligand's binding affinity: \"))\n",
    "\n",
    "# list to contain the outperformed decoys\n",
    "outperformed_decoys_na = []\n",
    "\n",
    "# for loop to get the results\n",
    "for decoy in decoys_na:\n",
    "  if ligand_value_na < decoy:\n",
    "    outperformed_decoys_na.append(decoy)\n",
    "\n",
    "print(f\"\\n============={ligand_na}=============\")\n",
    "print(f\"{ligand_na} outperformed {len(outperformed_decoys_na)} decoys!\")"
   ]
  }
 ],
 "metadata": {
  "language_info": {
   "name": "python"
  },
  "orig_nbformat": 4
 },
 "nbformat": 4,
 "nbformat_minor": 2
}
